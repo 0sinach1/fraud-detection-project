{
  "nbformat": 4,
  "nbformat_minor": 0,
  "metadata": {
    "colab": {
      "provenance": [],
      "authorship_tag": "ABX9TyNsg+U2D4O0o+e/uM5ysL5R",
      "include_colab_link": true
    },
    "kernelspec": {
      "name": "python3",
      "display_name": "Python 3"
    },
    "language_info": {
      "name": "python"
    }
  },
  "cells": [
    {
      "cell_type": "markdown",
      "metadata": {
        "id": "view-in-github",
        "colab_type": "text"
      },
      "source": [
        "<a href=\"https://colab.research.google.com/github/0sinach1/fraud-detection-project/blob/main/notebook.ipynb\" target=\"_parent\"><img src=\"https://colab.research.google.com/assets/colab-badge.svg\" alt=\"Open In Colab\"/></a>"
      ]
    },
    {
      "cell_type": "markdown",
      "source": [
        "## Fraud analysis project\n",
        "This notebook explores and models online payment fraud using a real-world dataset."
      ],
      "metadata": {
        "id": "O1csOoOufS4R"
      }
    },
    {
      "cell_type": "markdown",
      "source": [
        "## 1. Import Libraries\n",
        "We start by importing the necessary Python libraries for data analysis and visualization."
      ],
      "metadata": {
        "id": "g-VyKD9Kgpyc"
      }
    },
    {
      "cell_type": "code",
      "execution_count": 1,
      "metadata": {
        "id": "SYcXo0jweuyO"
      },
      "outputs": [],
      "source": [
        "import numpy as np\n",
        "import pandas as pd\n",
        "import matplotlib.pyplot as plt\n",
        "import seaborn as sns"
      ]
    },
    {
      "cell_type": "code",
      "source": [],
      "metadata": {
        "id": "1owY2p43gtkw"
      },
      "execution_count": null,
      "outputs": []
    }
  ]
}